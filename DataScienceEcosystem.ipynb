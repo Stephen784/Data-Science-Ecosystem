{
 "cells": [
  {
   "cell_type": "markdown",
   "id": "7424b5ec-8c45-4b9c-9423-5340fa69c191",
   "metadata": {},
   "source": [
    "# Data Science Tools and Ecosystem"
   ]
  },
  {
   "cell_type": "markdown",
   "id": "caa7055b-8821-45d0-a3bc-f76c67c95d12",
   "metadata": {},
   "source": [
    "### In this notebook, Data Science Tools and Ecosystem are summarized."
   ]
  },
  {
   "cell_type": "markdown",
   "id": "25bf8457-0d43-406f-9138-55c3d2004081",
   "metadata": {},
   "source": [
    "**Objectives:**"
   ]
  },
  {
   "cell_type": "markdown",
   "id": "de7718d4-7b58-46df-800f-2ae31b1d1bf1",
   "metadata": {},
   "source": [
    "### > List popular languages for data science \n",
    "### > Create a markdown cell to list data science libraries\n",
    "### > Create a markdown cell with a table of Data Science tools\n",
    "### > Create a markdown cell introducing arithmetic expression examples\n",
    "### > Create a code cell to multiply and add numbers"
   ]
  },
  {
   "cell_type": "markdown",
   "id": "1b7e5ca5-d1ec-48ba-abd2-f90f9692d36a",
   "metadata": {},
   "source": [
    "### Some of the popular languages that Data Scientists use are;"
   ]
  },
  {
   "cell_type": "markdown",
   "id": "edcd748c-818d-46f4-9610-43366c1564c1",
   "metadata": {},
   "source": [
    "### 1) Python\n",
    "### 2) R\n",
    "### 3) C++\n",
    "### 4) Julia\n",
    "### 5) Go"
   ]
  },
  {
   "cell_type": "markdown",
   "id": "1f3655bc-d255-4c0e-9a52-a9831a8ee5c3",
   "metadata": {},
   "source": [
    "### Some of the commonly used libraries used by Data Scientists include:"
   ]
  },
  {
   "cell_type": "markdown",
   "id": "07142c26-f2e1-4c58-a31d-005796c25518",
   "metadata": {},
   "source": [
    "### 1) Tensorflow\n",
    "### 2) Matplotlib\n",
    "### 3) Keras\n",
    "### 4) Numpy\n",
    "### 5) Seaborn\n",
    "### 6) Pytorch"
   ]
  },
  {
   "cell_type": "markdown",
   "id": "6496100d-c2af-44bc-b553-b60de0365b43",
   "metadata": {},
   "source": [
    " |Data Science Tools|\n",
    " |------------------|\n",
    " |Jupyter Notebook|\n",
    " |R-Studio|\n",
    " |Zeppelin Notebook|"
   ]
  },
  {
   "cell_type": "code",
   "execution_count": 1,
   "id": "6f5c164e-0f36-48f3-8b69-0ad6fbfb8381",
   "metadata": {
    "tags": []
   },
   "outputs": [
    {
     "data": {
      "text/html": [
       "<style>\n",
       "table {float:left}\n",
       "</style>\n"
      ],
      "text/plain": [
       "<IPython.core.display.HTML object>"
      ]
     },
     "metadata": {},
     "output_type": "display_data"
    }
   ],
   "source": [
    "%%html\n",
    "<style>\n",
    "table {float:left}\n",
    "</style>"
   ]
  },
  {
   "cell_type": "markdown",
   "id": "0b44be12-583d-4ff5-a7a2-74a6c07a4c75",
   "metadata": {},
   "source": [
    "### Below are a few examples of evaluating arithmetic expressions in Python."
   ]
  },
  {
   "cell_type": "markdown",
   "id": "0d307df2-2b00-46c4-a677-19c4dc510ea7",
   "metadata": {},
   "source": [
    "|Operator|Type|Result|\n",
    "|--------|----|--------|\n",
    "|-|Binary|b subtracted from a|\n",
    "|*|Binary|The product of a and b|\n",
    "|/|Binary|The quotient of a divided by b , expressed as a float|\n",
    "|%|Binary|The remainder of a divided by b|"
   ]
  },
  {
   "cell_type": "code",
   "execution_count": 2,
   "id": "4bfe17b4-d97b-4634-a4f4-6393368f6a10",
   "metadata": {
    "tags": []
   },
   "outputs": [
    {
     "data": {
      "text/plain": [
       "17"
      ]
     },
     "execution_count": 2,
     "metadata": {},
     "output_type": "execute_result"
    }
   ],
   "source": [
    "# This a simple arithmetic expression to mutiply then add integers.\n",
    "\n",
    "(3*4)+5\n"
   ]
  },
  {
   "cell_type": "code",
   "execution_count": 3,
   "id": "d1b96acc-2ad6-4d50-a07b-d7377fee5988",
   "metadata": {
    "tags": []
   },
   "outputs": [
    {
     "data": {
      "text/plain": [
       "3.3333333333333335"
      ]
     },
     "execution_count": 3,
     "metadata": {},
     "output_type": "execute_result"
    }
   ],
   "source": [
    "# This will convert 200 minutes to hours by diving by 60.\n",
    "\n",
    "200/60"
   ]
  },
  {
   "cell_type": "markdown",
   "id": "7fc41970-87c2-4abe-8e32-a5e0f17da555",
   "metadata": {},
   "source": [
    "## Author:"
   ]
  },
  {
   "cell_type": "markdown",
   "id": "f9ddc371-8339-49ac-b4b2-53bfc1f48908",
   "metadata": {},
   "source": [
    "Stephen Longwe"
   ]
  },
  {
   "cell_type": "code",
   "execution_count": null,
   "id": "21c4f196-33d2-471d-acd3-ffe2708f0239",
   "metadata": {},
   "outputs": [],
   "source": []
  }
 ],
 "metadata": {
  "kernelspec": {
   "display_name": "Python",
   "language": "python",
   "name": "conda-env-python-py"
  },
  "language_info": {
   "codemirror_mode": {
    "name": "ipython",
    "version": 3
   },
   "file_extension": ".py",
   "mimetype": "text/x-python",
   "name": "python",
   "nbconvert_exporter": "python",
   "pygments_lexer": "ipython3",
   "version": "3.7.12"
  }
 },
 "nbformat": 4,
 "nbformat_minor": 5
}
